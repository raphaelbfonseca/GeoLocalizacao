{
 "cells": [
  {
   "cell_type": "markdown",
   "metadata": {},
   "source": [
    "# Consulta Latitude Longitude\n",
    "\n",
    "O código retorna a latitude e longitude.\n",
    "**Para que o código funcione é necessário:**\n",
    "1. Instalar a lib **googlemaps**: pip install googlemaps\n",
    "2. Criar uma **APY Key** no google: https://console.developers.google.com/apis/dashboard?pli=1\n",
    "3. Como parâmetro pode ser passado: O endereço completo ou somente o cep"
   ]
  },
  {
   "cell_type": "code",
   "execution_count": 1,
   "metadata": {},
   "outputs": [
    {
     "name": "stdout",
     "output_type": "stream",
     "text": [
      "-22.6173051 -43.69508039999999\n"
     ]
    }
   ],
   "source": [
    "import googlemaps\n",
    "\n",
    "def get_latitude_Longitude(cep):\n",
    "    # Passando a APY KEY\n",
    "    gmaps = googlemaps.Client(key='')\n",
    "    \n",
    "    try:\n",
    "        # Efetua a localização da latitude e da longitude\n",
    "        geocode_result = gmaps.geocode(cep)\n",
    "\n",
    "        local = geocode_result[0]['geometry']['location']\n",
    "        lat = local['lat']\n",
    "        lng = local['lng']\n",
    "\n",
    "        print(lat, lng)\n",
    "    except:\n",
    "        print('Erro ao localizar a Latitude/Longitude para o Cep: ' + cep)\n",
    "        \n",
    "\n",
    "get_latitude_Longitude('26600-000')"
   ]
  },
  {
   "cell_type": "code",
   "execution_count": null,
   "metadata": {},
   "outputs": [],
   "source": []
  }
 ],
 "metadata": {
  "kernelspec": {
   "display_name": "Python 3",
   "language": "python",
   "name": "python3"
  },
  "language_info": {
   "codemirror_mode": {
    "name": "ipython",
    "version": 3
   },
   "file_extension": ".py",
   "mimetype": "text/x-python",
   "name": "python",
   "nbconvert_exporter": "python",
   "pygments_lexer": "ipython3",
   "version": "3.7.1"
  }
 },
 "nbformat": 4,
 "nbformat_minor": 2
}
